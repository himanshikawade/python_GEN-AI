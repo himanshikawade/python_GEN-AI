{
  "nbformat": 4,
  "nbformat_minor": 0,
  "metadata": {
    "colab": {
      "provenance": []
    },
    "kernelspec": {
      "name": "python3",
      "display_name": "Python 3"
    },
    "language_info": {
      "name": "python"
    }
  },
  "cells": [
    {
      "cell_type": "code",
      "execution_count": 2,
      "metadata": {
        "colab": {
          "base_uri": "https://localhost:8080/"
        },
        "id": "umwOc_aM6LEb",
        "outputId": "8133dcec-12ab-4299-b270-c5fdddc06499"
      },
      "outputs": [
        {
          "output_type": "stream",
          "name": "stdout",
          "text": [
            "[]\n"
          ]
        }
      ],
      "source": [
        "import requests\n",
        "import json\n",
        "\n",
        "def fetch_data(api_url, page=1):\n",
        "    \"\"\"Fetch data from the paginated API.\"\"\"\n",
        "    response = requests.get(f\"{api_url}?page={page}\")\n",
        "    if response.status_code == 200:\n",
        "        return response.json()\n",
        "    else:\n",
        "        return None\n",
        "\n",
        "def identify_citations(response_text, sources):\n",
        "    \"\"\"Identify which sources contributed to the response text.\"\"\"\n",
        "    citations = []\n",
        "    for source in sources:\n",
        "        if source['context'] in response_text:\n",
        "            citations.append(source)\n",
        "    return citations\n",
        "\n",
        "def process_responses(api_url):\n",
        "    \"\"\"Process all pages of the API and return the citations for each response.\"\"\"\n",
        "    page = 1\n",
        "    all_citations = []\n",
        "    while True:\n",
        "        data = fetch_data(api_url, page)\n",
        "        if not data:\n",
        "            break\n",
        "        for item in data:\n",
        "            response_text = item['response']\n",
        "            sources = item['sources']\n",
        "            citations = identify_citations(response_text, sources)\n",
        "            all_citations.append({'response': response_text, 'citations': citations})\n",
        "        page += 1\n",
        "    return all_citations\n",
        "\n",
        "def main():\n",
        "    api_url = \"https://devapi.beyondchats.com/api/get_message_with_sources\"\n",
        "    citations = process_responses(api_url)\n",
        "    print(json.dumps(citations, indent=2))\n",
        "\n",
        "if __name__ == \"__main__\":\n",
        "    main()\n"
      ]
    },
    {
      "cell_type": "code",
      "source": [
        "pip install Flask\n"
      ],
      "metadata": {
        "colab": {
          "base_uri": "https://localhost:8080/"
        },
        "id": "2mXo2QKL6dpy",
        "outputId": "1932c957-eaa1-4a51-8e74-23d137f59a48"
      },
      "execution_count": 3,
      "outputs": [
        {
          "output_type": "stream",
          "name": "stdout",
          "text": [
            "Requirement already satisfied: Flask in /usr/local/lib/python3.10/dist-packages (2.2.5)\n",
            "Requirement already satisfied: Werkzeug>=2.2.2 in /usr/local/lib/python3.10/dist-packages (from Flask) (3.0.3)\n",
            "Requirement already satisfied: Jinja2>=3.0 in /usr/local/lib/python3.10/dist-packages (from Flask) (3.1.4)\n",
            "Requirement already satisfied: itsdangerous>=2.0 in /usr/local/lib/python3.10/dist-packages (from Flask) (2.2.0)\n",
            "Requirement already satisfied: click>=8.0 in /usr/local/lib/python3.10/dist-packages (from Flask) (8.1.7)\n",
            "Requirement already satisfied: MarkupSafe>=2.0 in /usr/local/lib/python3.10/dist-packages (from Jinja2>=3.0->Flask) (2.1.5)\n"
          ]
        }
      ]
    },
    {
      "cell_type": "code",
      "source": [
        "from flask import Flask, jsonify\n",
        "import requests\n",
        "\n",
        "app = Flask(__name__)\n",
        "\n",
        "def fetch_data(api_url, page=1):\n",
        "    response = requests.get(f\"{api_url}?page={page}\")\n",
        "    if response.status_code == 200:\n",
        "        return response.json()\n",
        "    else:\n",
        "        return None\n",
        "\n",
        "def identify_citations(response_text, sources):\n",
        "    citations = []\n",
        "    for source in sources:\n",
        "        if source['context'] in response_text:\n",
        "            citations.append(source)\n",
        "    return citations\n",
        "\n",
        "def process_responses(api_url):\n",
        "    page = 1\n",
        "    all_citations = []\n",
        "    while True:\n",
        "        data = fetch_data(api_url, page)\n",
        "        if not data:\n",
        "            break\n",
        "        for item in data:\n",
        "            response_text = item['response']\n",
        "            sources = item['sources']\n",
        "            citations = identify_citations(response_text, sources)\n",
        "            all_citations.append({'response': response_text, 'citations': citations})\n",
        "        page += 1\n",
        "    return all_citations\n",
        "\n",
        "@app.route('/citations', methods=['GET'])\n",
        "def get_citations():\n",
        "    api_url = \"https://devapi.beyondchats.com/api/get_message_with_sources\"\n",
        "    citations = process_responses(api_url)\n",
        "    return jsonify(citations)\n",
        "\n",
        "if __name__ == \"__main__\":\n",
        "    app.run(debug=True)\n"
      ],
      "metadata": {
        "colab": {
          "base_uri": "https://localhost:8080/"
        },
        "id": "o-4LnnWF664G",
        "outputId": "af4742cb-6c17-4e88-c928-a8f4aa5abf1e"
      },
      "execution_count": 4,
      "outputs": [
        {
          "output_type": "stream",
          "name": "stdout",
          "text": [
            " * Serving Flask app '__main__'\n",
            " * Debug mode: on\n"
          ]
        },
        {
          "output_type": "stream",
          "name": "stderr",
          "text": [
            "INFO:werkzeug:\u001b[31m\u001b[1mWARNING: This is a development server. Do not use it in a production deployment. Use a production WSGI server instead.\u001b[0m\n",
            " * Running on http://127.0.0.1:5000\n",
            "INFO:werkzeug:\u001b[33mPress CTRL+C to quit\u001b[0m\n",
            "INFO:werkzeug: * Restarting with stat\n"
          ]
        }
      ]
    },
    {
      "cell_type": "code",
      "source": [],
      "metadata": {
        "id": "_HDRwpqK_sQj"
      },
      "execution_count": null,
      "outputs": []
    }
  ]
}